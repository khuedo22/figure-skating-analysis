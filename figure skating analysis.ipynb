{
 "cells": [
  {
   "cell_type": "code",
   "execution_count": 26,
   "id": "6f329d29",
   "metadata": {},
   "outputs": [],
   "source": [
    "import pandas as pd\n",
    "import numpy as np\n",
    "from scipy.stats import ttest_rel\n",
    "from sklearn.preprocessing import StandardScaler"
   ]
  },
  {
   "cell_type": "code",
   "execution_count": 27,
   "id": "38a9c301",
   "metadata": {
    "scrolled": true
   },
   "outputs": [
    {
     "data": {
      "text/html": [
       "<div>\n",
       "<style scoped>\n",
       "    .dataframe tbody tr th:only-of-type {\n",
       "        vertical-align: middle;\n",
       "    }\n",
       "\n",
       "    .dataframe tbody tr th {\n",
       "        vertical-align: top;\n",
       "    }\n",
       "\n",
       "    .dataframe thead th {\n",
       "        text-align: right;\n",
       "    }\n",
       "</style>\n",
       "<table border=\"1\" class=\"dataframe\">\n",
       "  <thead>\n",
       "    <tr style=\"text-align: right;\">\n",
       "      <th></th>\n",
       "      <th>discipline</th>\n",
       "      <th>skaters</th>\n",
       "      <th>home_grand_prix_total_score</th>\n",
       "      <th>other_grand_prix_total_score</th>\n",
       "      <th>season</th>\n",
       "    </tr>\n",
       "  </thead>\n",
       "  <tbody>\n",
       "    <tr>\n",
       "      <th>0</th>\n",
       "      <td>men</td>\n",
       "      <td>Kevin Aymoz</td>\n",
       "      <td>250.03</td>\n",
       "      <td>279.09</td>\n",
       "      <td>2023-2024</td>\n",
       "    </tr>\n",
       "    <tr>\n",
       "      <th>1</th>\n",
       "      <td>pairs</td>\n",
       "      <td>Chelsea Liu/Balazs Nagy</td>\n",
       "      <td>177.66</td>\n",
       "      <td>172.60</td>\n",
       "      <td>2023-2024</td>\n",
       "    </tr>\n",
       "    <tr>\n",
       "      <th>2</th>\n",
       "      <td>dance</td>\n",
       "      <td>Madison Chock/Evan Bates</td>\n",
       "      <td>212.96</td>\n",
       "      <td>209.46</td>\n",
       "      <td>2023-2024</td>\n",
       "    </tr>\n",
       "    <tr>\n",
       "      <th>3</th>\n",
       "      <td>dance</td>\n",
       "      <td>Caroline Green/Michael Parsons</td>\n",
       "      <td>185.07</td>\n",
       "      <td>189.33</td>\n",
       "      <td>2023-2024</td>\n",
       "    </tr>\n",
       "    <tr>\n",
       "      <th>4</th>\n",
       "      <td>men</td>\n",
       "      <td>Ilia Malinin</td>\n",
       "      <td>310.47</td>\n",
       "      <td>304.68</td>\n",
       "      <td>2023-2024</td>\n",
       "    </tr>\n",
       "    <tr>\n",
       "      <th>...</th>\n",
       "      <td>...</td>\n",
       "      <td>...</td>\n",
       "      <td>...</td>\n",
       "      <td>...</td>\n",
       "      <td>...</td>\n",
       "    </tr>\n",
       "    <tr>\n",
       "      <th>85</th>\n",
       "      <td>women</td>\n",
       "      <td>Mana Kawabe</td>\n",
       "      <td>205.44</td>\n",
       "      <td>186.52</td>\n",
       "      <td>2021-2022</td>\n",
       "    </tr>\n",
       "    <tr>\n",
       "      <th>86</th>\n",
       "      <td>women</td>\n",
       "      <td>Rino Matsuike</td>\n",
       "      <td>186.17</td>\n",
       "      <td>184.36</td>\n",
       "      <td>2021-2022</td>\n",
       "    </tr>\n",
       "    <tr>\n",
       "      <th>87</th>\n",
       "      <td>pairs</td>\n",
       "      <td>Anastasia Mishina/Aleksandr Galliamov</td>\n",
       "      <td>226.98</td>\n",
       "      <td>227.28</td>\n",
       "      <td>2021-2022</td>\n",
       "    </tr>\n",
       "    <tr>\n",
       "      <th>88</th>\n",
       "      <td>dance</td>\n",
       "      <td>Victoria Sinitsina/Nikita Katsalapov</td>\n",
       "      <td>211.72</td>\n",
       "      <td>215.44</td>\n",
       "      <td>2021-2022</td>\n",
       "    </tr>\n",
       "    <tr>\n",
       "      <th>89</th>\n",
       "      <td>dance</td>\n",
       "      <td>Gabriella Papadakis/Guillaume Cizeron</td>\n",
       "      <td>221.25</td>\n",
       "      <td>220.06</td>\n",
       "      <td>2021-2022</td>\n",
       "    </tr>\n",
       "  </tbody>\n",
       "</table>\n",
       "<p>90 rows × 5 columns</p>\n",
       "</div>"
      ],
      "text/plain": [
       "   discipline                                skaters  \\\n",
       "0         men                            Kevin Aymoz   \n",
       "1       pairs                Chelsea Liu/Balazs Nagy   \n",
       "2       dance               Madison Chock/Evan Bates   \n",
       "3       dance         Caroline Green/Michael Parsons   \n",
       "4         men                           Ilia Malinin   \n",
       "..        ...                                    ...   \n",
       "85      women                            Mana Kawabe   \n",
       "86      women                          Rino Matsuike   \n",
       "87      pairs  Anastasia Mishina/Aleksandr Galliamov   \n",
       "88      dance   Victoria Sinitsina/Nikita Katsalapov   \n",
       "89      dance  Gabriella Papadakis/Guillaume Cizeron   \n",
       "\n",
       "    home_grand_prix_total_score  other_grand_prix_total_score     season  \n",
       "0                        250.03                        279.09  2023-2024  \n",
       "1                        177.66                        172.60  2023-2024  \n",
       "2                        212.96                        209.46  2023-2024  \n",
       "3                        185.07                        189.33  2023-2024  \n",
       "4                        310.47                        304.68  2023-2024  \n",
       "..                          ...                           ...        ...  \n",
       "85                       205.44                        186.52  2021-2022  \n",
       "86                       186.17                        184.36  2021-2022  \n",
       "87                       226.98                        227.28  2021-2022  \n",
       "88                       211.72                        215.44  2021-2022  \n",
       "89                       221.25                        220.06  2021-2022  \n",
       "\n",
       "[90 rows x 5 columns]"
      ]
     },
     "execution_count": 27,
     "metadata": {},
     "output_type": "execute_result"
    }
   ],
   "source": [
    "data = pd.read_excel('figure_skating.xlsx', sheet_name='Sheet1')\n",
    "data"
   ]
  },
  {
   "cell_type": "code",
   "execution_count": 28,
   "id": "116a504e",
   "metadata": {},
   "outputs": [
    {
     "name": "stderr",
     "output_type": "stream",
     "text": [
      "C:\\Users\\khued\\AppData\\Local\\Temp\\ipykernel_2508\\513029361.py:4: FutureWarning: In a future version of pandas, a length 1 tuple will be returned when iterating over a groupby with a grouper equal to a list of length 1. Don't supply a list with a single grouper to avoid this warning.\n",
      "  discipline_groups = [group for name, group in data_discipline]\n"
     ]
    },
    {
     "data": {
      "text/plain": [
       "{'dance': StandardScaler(),\n",
       " 'men': StandardScaler(),\n",
       " 'pairs': StandardScaler(),\n",
       " 'women': StandardScaler()}"
      ]
     },
     "execution_count": 28,
     "metadata": {},
     "output_type": "execute_result"
    }
   ],
   "source": [
    "# must standardize by discipline\n",
    "scalers_by_discipline = {}\n",
    "data_discipline = data.groupby(['discipline'])\n",
    "discipline_groups = [group for name, group in data_discipline]\n",
    "for group in discipline_groups:\n",
    "    home_scores = group['home_grand_prix_total_score'].values\n",
    "    away_scores = group['other_grand_prix_total_score'].values\n",
    "    all_scores = np.append(home_scores, away_scores)\n",
    "    scaler = StandardScaler()\n",
    "    scaler.fit(all_scores.reshape(-1,1))\n",
    "    scalers_by_discipline[group.iloc[0,0]] = scaler\n",
    "scalers_by_discipline\n",
    "    "
   ]
  },
  {
   "cell_type": "code",
   "execution_count": 29,
   "id": "479b8d1a",
   "metadata": {},
   "outputs": [],
   "source": [
    "# scale the data\n",
    "data['scaled_home_grand_prix_total_score'] = data.apply(lambda x: scalers_by_discipline[x['discipline']].transform(np.array(x['home_grand_prix_total_score']).reshape(-1,1))[0][0], axis=1)\n",
    "data['scaled_other_grand_prix_total_score'] = data.apply(lambda x: scalers_by_discipline[x['discipline']].transform(np.array(x['other_grand_prix_total_score']).reshape(-1,1))[0][0], axis=1)"
   ]
  },
  {
   "cell_type": "code",
   "execution_count": 30,
   "id": "091b11aa",
   "metadata": {
    "scrolled": true
   },
   "outputs": [
    {
     "data": {
      "text/plain": [
       "array([-0.09764827, -0.27263687,  1.14764519, -0.50570079,  1.7255372 ,\n",
       "        0.34256325, -0.43733554, -0.97164914, -0.95705519, -0.42554441,\n",
       "        1.3470479 ,  1.506295  ,  1.61422756,  1.05948929, -0.47923822,\n",
       "       -1.44547686, -0.4819958 , -1.17401904, -0.15890717,  1.0039853 ,\n",
       "        0.13038391,  0.81756429,  0.07810513,  0.27981762, -0.10128844,\n",
       "        0.76671196, -1.69303647,  0.54535063, -1.76661869,  0.50207553,\n",
       "       -0.26857695, -0.82048269, -1.73696634,  0.79916351, -0.07683428,\n",
       "       -1.28585601, -0.50302896, -0.81802048, -1.19617875,  1.41362229,\n",
       "       -0.36768057, -1.39257575,  1.31007502,  0.70896608,  0.11200681,\n",
       "       -0.87857803,  0.47398251,  0.13824369, -0.04335089, -0.29036757,\n",
       "       -0.17671719, -0.38239639, -0.10733274, -1.74497055, -1.21114422,\n",
       "        1.27577387,  1.11258007,  0.48574694, -0.30096181,  0.98223187,\n",
       "        0.04231064,  1.11841744,  0.83591428,  0.94490431,  0.86724625,\n",
       "       -1.26864675, -0.19930504, -0.45027961, -0.4333871 , -1.07198465,\n",
       "        3.06126013,  1.23026663, -0.56830127,  1.25726008,  0.17674025,\n",
       "       -0.15919762,  1.02967608, -0.86138655,  0.34306549,  0.47458581,\n",
       "       -2.58416678,  1.10898648, -0.20255857, -0.80742192, -1.04693596,\n",
       "        0.22844199, -0.58304018,  1.88752681,  1.0741368 ,  1.63908435])"
      ]
     },
     "execution_count": 30,
     "metadata": {},
     "output_type": "execute_result"
    }
   ],
   "source": [
    "# get values in array\n",
    "home_grand_prix_total_score = data['scaled_home_grand_prix_total_score'].values\n",
    "other_grand_prix_total_score = data['scaled_other_grand_prix_total_score'].values\n",
    "home_grand_prix_total_score"
   ]
  },
  {
   "cell_type": "code",
   "execution_count": 32,
   "id": "c4dcdf2f",
   "metadata": {
    "scrolled": true
   },
   "outputs": [
    {
     "name": "stdout",
     "output_type": "stream",
     "text": [
      "Test Statistic: 1.6456478062103965\n",
      "P-Value: 0.0516817816582294\n"
     ]
    }
   ],
   "source": [
    "# t test\n",
    "t_stat, p_val = ttest_rel(home_grand_prix_total_score, other_grand_prix_total_score, alternative='greater')\n",
    "print(f'Test Statistic: {t_stat}')\n",
    "print(f'P-Value: {p_val}')"
   ]
  },
  {
   "cell_type": "code",
   "execution_count": 39,
   "id": "60ad1693",
   "metadata": {},
   "outputs": [
    {
     "data": {
      "text/plain": [
       "1.6548671937877102"
      ]
     },
     "execution_count": 39,
     "metadata": {},
     "output_type": "execute_result"
    }
   ],
   "source": [
    "# manual t test\n",
    "differences = home_grand_prix_total_score - other_grand_prix_total_score\n",
    "mean_differences = np.mean(differences)\n",
    "var_differences = np.var(differences)\n",
    "test_stat = mean_differences/(np.sqrt(var_differences)/np.sqrt(len(differences)))\n",
    "test_stat"
   ]
  },
  {
   "cell_type": "code",
   "execution_count": 38,
   "id": "08a21123",
   "metadata": {},
   "outputs": [
    {
     "name": "stdout",
     "output_type": "stream",
     "text": [
      "P-Value: 0.05073696111822423\n"
     ]
    }
   ],
   "source": [
    "from scipy.stats import t\n",
    "p_value = 1-t.cdf(test_stat, len(differences)-1)\n",
    "print(f'P-Value: {p_value}')"
   ]
  }
 ],
 "metadata": {
  "kernelspec": {
   "display_name": "Python 3 (ipykernel)",
   "language": "python",
   "name": "python3"
  },
  "language_info": {
   "codemirror_mode": {
    "name": "ipython",
    "version": 3
   },
   "file_extension": ".py",
   "mimetype": "text/x-python",
   "name": "python",
   "nbconvert_exporter": "python",
   "pygments_lexer": "ipython3",
   "version": "3.10.9"
  }
 },
 "nbformat": 4,
 "nbformat_minor": 5
}
