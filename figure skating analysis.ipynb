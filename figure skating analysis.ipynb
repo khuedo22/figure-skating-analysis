{
 "cells": [
  {
   "cell_type": "code",
   "execution_count": 4,
   "id": "6f329d29",
   "metadata": {},
   "outputs": [],
   "source": [
    "import pandas as pd\n",
    "import numpy as np\n",
    "from scipy.stats import ttest_rel\n",
    "from sklearn.preprocessing import StandardScaler"
   ]
  },
  {
   "cell_type": "code",
   "execution_count": 5,
   "id": "171302de",
   "metadata": {},
   "outputs": [],
   "source": [
    "# !conda install scipy -y"
   ]
  },
  {
   "cell_type": "code",
   "execution_count": 6,
   "id": "8fa52ec9",
   "metadata": {},
   "outputs": [],
   "source": [
    "# !conda install scikit-learn -y"
   ]
  },
  {
   "cell_type": "code",
   "execution_count": 8,
   "id": "38a9c301",
   "metadata": {
    "scrolled": true
   },
   "outputs": [
    {
     "data": {
      "text/html": [
       "<div>\n",
       "<style scoped>\n",
       "    .dataframe tbody tr th:only-of-type {\n",
       "        vertical-align: middle;\n",
       "    }\n",
       "\n",
       "    .dataframe tbody tr th {\n",
       "        vertical-align: top;\n",
       "    }\n",
       "\n",
       "    .dataframe thead th {\n",
       "        text-align: right;\n",
       "    }\n",
       "</style>\n",
       "<table border=\"1\" class=\"dataframe\">\n",
       "  <thead>\n",
       "    <tr style=\"text-align: right;\">\n",
       "      <th></th>\n",
       "      <th>Skater</th>\n",
       "      <th>Country Represented</th>\n",
       "      <th>Score</th>\n",
       "      <th>Country of Competition</th>\n",
       "      <th>Discipline</th>\n",
       "      <th>Season</th>\n",
       "      <th>Home Competition?</th>\n",
       "    </tr>\n",
       "  </thead>\n",
       "  <tbody>\n",
       "    <tr>\n",
       "      <th>0</th>\n",
       "      <td>Adam Siao Him Fa</td>\n",
       "      <td>FR</td>\n",
       "      <td>217.52</td>\n",
       "      <td>US</td>\n",
       "      <td>Men</td>\n",
       "      <td>2021-2022</td>\n",
       "      <td>False</td>\n",
       "    </tr>\n",
       "    <tr>\n",
       "      <th>1</th>\n",
       "      <td>Adam Siao Him Fa</td>\n",
       "      <td>FR</td>\n",
       "      <td>243.29</td>\n",
       "      <td>FR</td>\n",
       "      <td>Men</td>\n",
       "      <td>2021-2022</td>\n",
       "      <td>True</td>\n",
       "    </tr>\n",
       "    <tr>\n",
       "      <th>2</th>\n",
       "      <td>Adam Siao Him Fa</td>\n",
       "      <td>FR</td>\n",
       "      <td>268.98</td>\n",
       "      <td>FR</td>\n",
       "      <td>Men</td>\n",
       "      <td>2022-2023</td>\n",
       "      <td>True</td>\n",
       "    </tr>\n",
       "    <tr>\n",
       "      <th>3</th>\n",
       "      <td>Adam Siao Him Fa</td>\n",
       "      <td>FR</td>\n",
       "      <td>250.45</td>\n",
       "      <td>JP</td>\n",
       "      <td>Men</td>\n",
       "      <td>2022-2023</td>\n",
       "      <td>False</td>\n",
       "    </tr>\n",
       "    <tr>\n",
       "      <th>4</th>\n",
       "      <td>Adam Siao Him Fa</td>\n",
       "      <td>FR</td>\n",
       "      <td>306.78</td>\n",
       "      <td>FR</td>\n",
       "      <td>Men</td>\n",
       "      <td>2023-2024</td>\n",
       "      <td>True</td>\n",
       "    </tr>\n",
       "    <tr>\n",
       "      <th>...</th>\n",
       "      <td>...</td>\n",
       "      <td>...</td>\n",
       "      <td>...</td>\n",
       "      <td>...</td>\n",
       "      <td>...</td>\n",
       "      <td>...</td>\n",
       "      <td>...</td>\n",
       "    </tr>\n",
       "    <tr>\n",
       "      <th>361</th>\n",
       "      <td>Yuhana Yokoi</td>\n",
       "      <td>JP</td>\n",
       "      <td>189.54</td>\n",
       "      <td>JP</td>\n",
       "      <td>Women</td>\n",
       "      <td>2019-2020</td>\n",
       "      <td>True</td>\n",
       "    </tr>\n",
       "    <tr>\n",
       "      <th>362</th>\n",
       "      <td>Yuma Kagiyama</td>\n",
       "      <td>JP</td>\n",
       "      <td>273.14</td>\n",
       "      <td>FR</td>\n",
       "      <td>Men</td>\n",
       "      <td>2023-2024</td>\n",
       "      <td>False</td>\n",
       "    </tr>\n",
       "    <tr>\n",
       "      <th>363</th>\n",
       "      <td>Yuma Kagiyama</td>\n",
       "      <td>JP</td>\n",
       "      <td>288.39</td>\n",
       "      <td>JP</td>\n",
       "      <td>Men</td>\n",
       "      <td>2023-2024</td>\n",
       "      <td>True</td>\n",
       "    </tr>\n",
       "    <tr>\n",
       "      <th>364</th>\n",
       "      <td>Yuzuru Hanyu</td>\n",
       "      <td>JP</td>\n",
       "      <td>322.59</td>\n",
       "      <td>CA</td>\n",
       "      <td>Men</td>\n",
       "      <td>2019-2020</td>\n",
       "      <td>False</td>\n",
       "    </tr>\n",
       "    <tr>\n",
       "      <th>365</th>\n",
       "      <td>Yuzuru Hanyu</td>\n",
       "      <td>JP</td>\n",
       "      <td>305.05</td>\n",
       "      <td>JP</td>\n",
       "      <td>Men</td>\n",
       "      <td>2019-2020</td>\n",
       "      <td>True</td>\n",
       "    </tr>\n",
       "  </tbody>\n",
       "</table>\n",
       "<p>366 rows × 7 columns</p>\n",
       "</div>"
      ],
      "text/plain": [
       "               Skater Country Represented   Score Country of Competition  \\\n",
       "0    Adam Siao Him Fa                  FR  217.52                     US   \n",
       "1    Adam Siao Him Fa                  FR  243.29                     FR   \n",
       "2    Adam Siao Him Fa                  FR  268.98                     FR   \n",
       "3    Adam Siao Him Fa                  FR  250.45                     JP   \n",
       "4    Adam Siao Him Fa                  FR  306.78                     FR   \n",
       "..                ...                 ...     ...                    ...   \n",
       "361      Yuhana Yokoi                  JP  189.54                     JP   \n",
       "362     Yuma Kagiyama                  JP  273.14                     FR   \n",
       "363     Yuma Kagiyama                  JP  288.39                     JP   \n",
       "364      Yuzuru Hanyu                  JP  322.59                     CA   \n",
       "365      Yuzuru Hanyu                  JP  305.05                     JP   \n",
       "\n",
       "    Discipline     Season  Home Competition?  \n",
       "0          Men  2021-2022              False  \n",
       "1          Men  2021-2022               True  \n",
       "2          Men  2022-2023               True  \n",
       "3          Men  2022-2023              False  \n",
       "4          Men  2023-2024               True  \n",
       "..         ...        ...                ...  \n",
       "361      Women  2019-2020               True  \n",
       "362        Men  2023-2024              False  \n",
       "363        Men  2023-2024               True  \n",
       "364        Men  2019-2020              False  \n",
       "365        Men  2019-2020               True  \n",
       "\n",
       "[366 rows x 7 columns]"
      ]
     },
     "execution_count": 8,
     "metadata": {},
     "output_type": "execute_result"
    }
   ],
   "source": [
    "data = pd.read_csv('grand_prix_dataset.csv')\n",
    "data"
   ]
  },
  {
   "cell_type": "code",
   "execution_count": 37,
   "id": "f8bf6399",
   "metadata": {},
   "outputs": [],
   "source": [
    "if True in data['Score'].isna().values:\n",
    "    skaters_to_drop = list(data[data['Score'].isna()]['Skater'])\n",
    "    seasons_competed = list(data[data['Score'].isna()]['Season'])\n",
    "    data = data[~data['Skater'].isin(skaters_to_drop) & ~data['Season'].isin(seasons_competed)]\n",
    "\n",
    "    "
   ]
  },
  {
   "cell_type": "code",
   "execution_count": 39,
   "id": "b3aee07c",
   "metadata": {},
   "outputs": [
    {
     "data": {
      "text/plain": [
       "{'Dance': StandardScaler(),\n",
       " 'Men': StandardScaler(),\n",
       " 'Pairs': StandardScaler(),\n",
       " 'Women': StandardScaler()}"
      ]
     },
     "execution_count": 39,
     "metadata": {},
     "output_type": "execute_result"
    }
   ],
   "source": [
    "# must standardize by discipline\n",
    "scalers_by_discipline = {}\n",
    "discipline_groups = data.groupby('Discipline')\n",
    "# discipline_groups = [group for name, group in discipline_groups]\n",
    "for name, group in discipline_groups:\n",
    "    scaler = StandardScaler()\n",
    "    scaler.fit(group['Score'].values.reshape(-1,1))\n",
    "    scalers_by_discipline[name] = scaler\n",
    "scalers_by_discipline"
   ]
  },
  {
   "cell_type": "code",
   "execution_count": 40,
   "id": "cbc0bd75",
   "metadata": {},
   "outputs": [
    {
     "name": "stderr",
     "output_type": "stream",
     "text": [
      "C:\\Users\\khued\\AppData\\Local\\Temp\\ipykernel_2588\\3947264885.py:1: SettingWithCopyWarning: \n",
      "A value is trying to be set on a copy of a slice from a DataFrame.\n",
      "Try using .loc[row_indexer,col_indexer] = value instead\n",
      "\n",
      "See the caveats in the documentation: https://pandas.pydata.org/pandas-docs/stable/user_guide/indexing.html#returning-a-view-versus-a-copy\n",
      "  data['Score'] = data.apply(lambda x: scalers_by_discipline[x['Discipline']].transform(np.array(x['Score']).reshape(-1,1))[0][0], axis=1)\n"
     ]
    }
   ],
   "source": [
    "data['Score'] = data.apply(lambda x: scalers_by_discipline[x['Discipline']].transform(np.array(x['Score']).reshape(-1,1))[0][0], axis=1)"
   ]
  },
  {
   "cell_type": "code",
   "execution_count": 46,
   "id": "406db162",
   "metadata": {},
   "outputs": [],
   "source": [
    "home_grand_prix_total_scores = data[data['Home Competition?'] == True]['Score'].values\n",
    "other_grand_prix_total_scores = data[data['Home Competition?'] == False]['Score'].values"
   ]
  },
  {
   "cell_type": "code",
   "execution_count": 47,
   "id": "721fb35b",
   "metadata": {},
   "outputs": [
    {
     "data": {
      "text/plain": [
       "array([ 0.08253069,  1.57095553, -1.14892313,  0.53747381,  2.19229405,\n",
       "       -0.97858922,  1.18715529, -0.25590051, -0.60709357,  0.01911608,\n",
       "       -0.91834419,  1.44559885, -0.70841821, -0.65221022,  0.50312965,\n",
       "        1.03167716, -0.01179948, -0.54160344,  0.54960264, -0.06000013,\n",
       "       -0.30314017, -1.51633501,  1.15736812,  1.17530514, -1.40061496,\n",
       "       -0.92115206,  0.70457189,  0.17879851, -0.16959164,  0.96565755,\n",
       "        1.16008585, -0.82546612,  0.04907768,  1.07637976,  1.72048185,\n",
       "        1.08670713, -0.76189306,  0.0811469 ,  0.79482289, -0.35668784,\n",
       "        0.70242006,  1.00408813,  0.95018331,  1.7665966 ,  0.33341627,\n",
       "        1.20473448,  0.71564247,  1.66392569, -2.30407094, -0.51308769,\n",
       "        1.27778576, -0.75007095,  0.03035973, -0.83977722, -1.32825881,\n",
       "        0.98069112,  0.32314206, -2.42188277, -1.18368481, -0.98045247,\n",
       "       -0.89606348, -1.30146645, -0.97496312,  0.60403822, -0.40858811,\n",
       "       -1.12498184, -0.51838442, -1.11310604, -0.94829068, -0.48794576,\n",
       "       -0.44271423, -0.17431976,  0.30617497, -0.35903173, -1.13882857,\n",
       "       -1.12743746,  0.11482498, -0.20785074,  0.69962588, -0.78698518,\n",
       "       -1.66028211, -0.8719533 , -0.97352193, -0.31214622, -1.52707084,\n",
       "       -0.60752598, -0.27956057,  1.24482378, -0.8896421 ,  0.28761044,\n",
       "        1.09370736, -0.98692113, -1.08075733, -0.0494494 ,  0.73870463,\n",
       "        1.53306948, -0.93511342, -1.0537773 ,  2.10748666,  0.11423325,\n",
       "        0.76835757,  0.1377783 , -0.80487992, -0.63107463, -0.9942263 ,\n",
       "        0.82111759,  1.77469074,  0.49570733,  0.36874655, -1.85928458,\n",
       "       -0.00907902, -0.80659229,  1.35982196,  0.91478159,  0.78745962,\n",
       "        0.99955939,  1.19922117, -1.01083716,  0.53906932,  0.31388402,\n",
       "       -0.9782244 , -1.6216079 , -0.39770594,  0.79361499,  0.66600247,\n",
       "       -0.8313926 ,  1.88439298, -1.59642172, -0.52961687,  0.93788194,\n",
       "        0.82829043, -0.95685132, -0.83472823,  0.17246264, -0.75686267,\n",
       "       -0.90437713,  0.19998637, -2.30662607, -0.59853966, -0.25693876,\n",
       "       -1.19969468, -0.7617904 , -0.08674968,  0.78714908,  2.32277622])"
      ]
     },
     "execution_count": 47,
     "metadata": {},
     "output_type": "execute_result"
    }
   ],
   "source": [
    "other_grand_prix_total_scores"
   ]
  },
  {
   "cell_type": "code",
   "execution_count": 30,
   "id": "091b11aa",
   "metadata": {
    "scrolled": true
   },
   "outputs": [
    {
     "data": {
      "text/plain": [
       "array([-0.09764827, -0.27263687,  1.14764519, -0.50570079,  1.7255372 ,\n",
       "        0.34256325, -0.43733554, -0.97164914, -0.95705519, -0.42554441,\n",
       "        1.3470479 ,  1.506295  ,  1.61422756,  1.05948929, -0.47923822,\n",
       "       -1.44547686, -0.4819958 , -1.17401904, -0.15890717,  1.0039853 ,\n",
       "        0.13038391,  0.81756429,  0.07810513,  0.27981762, -0.10128844,\n",
       "        0.76671196, -1.69303647,  0.54535063, -1.76661869,  0.50207553,\n",
       "       -0.26857695, -0.82048269, -1.73696634,  0.79916351, -0.07683428,\n",
       "       -1.28585601, -0.50302896, -0.81802048, -1.19617875,  1.41362229,\n",
       "       -0.36768057, -1.39257575,  1.31007502,  0.70896608,  0.11200681,\n",
       "       -0.87857803,  0.47398251,  0.13824369, -0.04335089, -0.29036757,\n",
       "       -0.17671719, -0.38239639, -0.10733274, -1.74497055, -1.21114422,\n",
       "        1.27577387,  1.11258007,  0.48574694, -0.30096181,  0.98223187,\n",
       "        0.04231064,  1.11841744,  0.83591428,  0.94490431,  0.86724625,\n",
       "       -1.26864675, -0.19930504, -0.45027961, -0.4333871 , -1.07198465,\n",
       "        3.06126013,  1.23026663, -0.56830127,  1.25726008,  0.17674025,\n",
       "       -0.15919762,  1.02967608, -0.86138655,  0.34306549,  0.47458581,\n",
       "       -2.58416678,  1.10898648, -0.20255857, -0.80742192, -1.04693596,\n",
       "        0.22844199, -0.58304018,  1.88752681,  1.0741368 ,  1.63908435])"
      ]
     },
     "execution_count": 30,
     "metadata": {},
     "output_type": "execute_result"
    }
   ],
   "source": [
    "# get values in array\n",
    "home_grand_prix_total_score = data['scaled_home_grand_prix_total_score'].values\n",
    "other_grand_prix_total_score = data['scaled_other_grand_prix_total_score'].values\n",
    "home_grand_prix_total_score"
   ]
  },
  {
   "cell_type": "code",
   "execution_count": 49,
   "id": "c4dcdf2f",
   "metadata": {
    "scrolled": true
   },
   "outputs": [
    {
     "name": "stdout",
     "output_type": "stream",
     "text": [
      "Test Statistic: 2.5971093478367178\n",
      "P-Value: 0.005188471067447645\n"
     ]
    }
   ],
   "source": [
    "# t test\n",
    "t_stat, p_val = ttest_rel(home_grand_prix_total_scores, other_grand_prix_total_scores, alternative='greater')\n",
    "print(f'Test Statistic: {t_stat}')\n",
    "print(f'P-Value: {p_val}')"
   ]
  },
  {
   "cell_type": "code",
   "execution_count": 51,
   "id": "60ad1693",
   "metadata": {},
   "outputs": [
    {
     "data": {
      "text/plain": [
       "2.606111486953451"
      ]
     },
     "execution_count": 51,
     "metadata": {},
     "output_type": "execute_result"
    }
   ],
   "source": [
    "# manual t test\n",
    "differences = home_grand_prix_total_scores - other_grand_prix_total_scores\n",
    "mean_differences = np.mean(differences)\n",
    "var_differences = np.var(differences)\n",
    "test_stat = mean_differences/(np.sqrt(var_differences)/np.sqrt(len(differences)))\n",
    "test_stat"
   ]
  },
  {
   "cell_type": "code",
   "execution_count": 52,
   "id": "08a21123",
   "metadata": {},
   "outputs": [
    {
     "name": "stdout",
     "output_type": "stream",
     "text": [
      "P-Value: 0.005060150402822261\n"
     ]
    }
   ],
   "source": [
    "from scipy.stats import t\n",
    "p_value = 1-t.cdf(test_stat, len(differences)-1)\n",
    "print(f'P-Value: {p_value}')"
   ]
  }
 ],
 "metadata": {
  "kernelspec": {
   "display_name": "Python 3 (ipykernel)",
   "language": "python",
   "name": "python3"
  },
  "language_info": {
   "codemirror_mode": {
    "name": "ipython",
    "version": 3
   },
   "file_extension": ".py",
   "mimetype": "text/x-python",
   "name": "python",
   "nbconvert_exporter": "python",
   "pygments_lexer": "ipython3",
   "version": "3.11.9"
  }
 },
 "nbformat": 4,
 "nbformat_minor": 5
}
