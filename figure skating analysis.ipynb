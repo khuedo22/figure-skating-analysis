{
 "cells": [
  {
   "cell_type": "markdown",
   "id": "72b8a3c0",
   "metadata": {},
   "source": [
    "## Introduction\n",
    "Many figure skating fans believe that skaters who compete in internation competitions held in the country they represent have an advantage over their competitors from other countries. There are several potential reasons for this; skaters might perform better in front of a home crowd or judges could be an implicitly bias towards skaters competiting at home despite the fact that at every internation competition, each judge is from a different federation. The Grand Prix Series is a series of 6 competitions held each held in different countries. Each skater competes at 2 and earn points to qualify for the final. Typically, the 6 competitions in the series are held in the same 6 countries every year: USA, Canada, France, China, Russia, and Japan. Since 2022, Russia has been replaced with Finland. China chooses to opt out for some seasons and has been replaced by either Italy or Great Britain. A majority of skaters competing on the Grand Prix Series represent these countries. Many skaters will compete at one Grand Prix competition held in their home country. We want to know if scores at these competitions are consistently higher than scores at their other Grand Prix competition outside of their home country. Data is collected from SkatingScores.com, a site that collects and publishes scoring data from the International Skating Union. The variables being studied are `Score`, `Country Represented`, and `Home Competition?`. We will perform a paired t-test to see whether the average difference between scores at Grand Prix competitions held in the skater's home country and scores at other Grand Prix competitions held outside the skater's home country is significantly larger than 0."
   ]
  },
  {
   "cell_type": "markdown",
   "id": "9940f884",
   "metadata": {},
   "source": [
    "## Methods\n",
    "Our hypothesis will be #TODO render in latex H0: mu_d = 0 and H1: mu_d > 0 conducted at a 5% significance level. We will examine total combined scores from skaters who compete at 2 Grand Prix competitions, where one competition is held in their home country and the other is held outside their home country. Scores from skaters who do not meet these criteria will not be considered. We will calculate the difference in scores for each skater,"
   ]
  },
  {
   "cell_type": "markdown",
   "id": "8d595598",
   "metadata": {},
   "source": []
  },
  {
   "cell_type": "code",
   "execution_count": 1,
   "id": "6f329d29",
   "metadata": {},
   "outputs": [],
   "source": [
    "import pandas as pd\n",
    "import numpy as np\n",
    "from scipy.stats import ttest_rel\n",
    "from sklearn.preprocessing import StandardScaler\n",
    "import matplotlib.pyplot as plt"
   ]
  },
  {
   "cell_type": "code",
   "execution_count": 5,
   "id": "38a9c301",
   "metadata": {
    "scrolled": true
   },
   "outputs": [
    {
     "data": {
      "text/html": [
       "<div>\n",
       "<style scoped>\n",
       "    .dataframe tbody tr th:only-of-type {\n",
       "        vertical-align: middle;\n",
       "    }\n",
       "\n",
       "    .dataframe tbody tr th {\n",
       "        vertical-align: top;\n",
       "    }\n",
       "\n",
       "    .dataframe thead th {\n",
       "        text-align: right;\n",
       "    }\n",
       "</style>\n",
       "<table border=\"1\" class=\"dataframe\">\n",
       "  <thead>\n",
       "    <tr style=\"text-align: right;\">\n",
       "      <th></th>\n",
       "      <th>Skater</th>\n",
       "      <th>Country Represented</th>\n",
       "      <th>Score</th>\n",
       "      <th>Country of Competition</th>\n",
       "      <th>Discipline</th>\n",
       "      <th>Season</th>\n",
       "      <th>Home Competition?</th>\n",
       "    </tr>\n",
       "  </thead>\n",
       "  <tbody>\n",
       "    <tr>\n",
       "      <th>0</th>\n",
       "      <td>Adam Siao Him Fa</td>\n",
       "      <td>FR</td>\n",
       "      <td>217.52</td>\n",
       "      <td>US</td>\n",
       "      <td>Men</td>\n",
       "      <td>2021-2022</td>\n",
       "      <td>False</td>\n",
       "    </tr>\n",
       "    <tr>\n",
       "      <th>1</th>\n",
       "      <td>Adam Siao Him Fa</td>\n",
       "      <td>FR</td>\n",
       "      <td>243.29</td>\n",
       "      <td>FR</td>\n",
       "      <td>Men</td>\n",
       "      <td>2021-2022</td>\n",
       "      <td>True</td>\n",
       "    </tr>\n",
       "    <tr>\n",
       "      <th>2</th>\n",
       "      <td>Adam Siao Him Fa</td>\n",
       "      <td>FR</td>\n",
       "      <td>268.98</td>\n",
       "      <td>FR</td>\n",
       "      <td>Men</td>\n",
       "      <td>2022-2023</td>\n",
       "      <td>True</td>\n",
       "    </tr>\n",
       "    <tr>\n",
       "      <th>3</th>\n",
       "      <td>Adam Siao Him Fa</td>\n",
       "      <td>FR</td>\n",
       "      <td>250.45</td>\n",
       "      <td>JP</td>\n",
       "      <td>Men</td>\n",
       "      <td>2022-2023</td>\n",
       "      <td>False</td>\n",
       "    </tr>\n",
       "    <tr>\n",
       "      <th>4</th>\n",
       "      <td>Adam Siao Him Fa</td>\n",
       "      <td>FR</td>\n",
       "      <td>306.78</td>\n",
       "      <td>FR</td>\n",
       "      <td>Men</td>\n",
       "      <td>2023-2024</td>\n",
       "      <td>True</td>\n",
       "    </tr>\n",
       "    <tr>\n",
       "      <th>...</th>\n",
       "      <td>...</td>\n",
       "      <td>...</td>\n",
       "      <td>...</td>\n",
       "      <td>...</td>\n",
       "      <td>...</td>\n",
       "      <td>...</td>\n",
       "      <td>...</td>\n",
       "    </tr>\n",
       "    <tr>\n",
       "      <th>361</th>\n",
       "      <td>Yuhana Yokoi</td>\n",
       "      <td>JP</td>\n",
       "      <td>189.54</td>\n",
       "      <td>JP</td>\n",
       "      <td>Women</td>\n",
       "      <td>2019-2020</td>\n",
       "      <td>True</td>\n",
       "    </tr>\n",
       "    <tr>\n",
       "      <th>362</th>\n",
       "      <td>Yuma Kagiyama</td>\n",
       "      <td>JP</td>\n",
       "      <td>273.14</td>\n",
       "      <td>FR</td>\n",
       "      <td>Men</td>\n",
       "      <td>2023-2024</td>\n",
       "      <td>False</td>\n",
       "    </tr>\n",
       "    <tr>\n",
       "      <th>363</th>\n",
       "      <td>Yuma Kagiyama</td>\n",
       "      <td>JP</td>\n",
       "      <td>288.39</td>\n",
       "      <td>JP</td>\n",
       "      <td>Men</td>\n",
       "      <td>2023-2024</td>\n",
       "      <td>True</td>\n",
       "    </tr>\n",
       "    <tr>\n",
       "      <th>364</th>\n",
       "      <td>Yuzuru Hanyu</td>\n",
       "      <td>JP</td>\n",
       "      <td>322.59</td>\n",
       "      <td>CA</td>\n",
       "      <td>Men</td>\n",
       "      <td>2019-2020</td>\n",
       "      <td>False</td>\n",
       "    </tr>\n",
       "    <tr>\n",
       "      <th>365</th>\n",
       "      <td>Yuzuru Hanyu</td>\n",
       "      <td>JP</td>\n",
       "      <td>305.05</td>\n",
       "      <td>JP</td>\n",
       "      <td>Men</td>\n",
       "      <td>2019-2020</td>\n",
       "      <td>True</td>\n",
       "    </tr>\n",
       "  </tbody>\n",
       "</table>\n",
       "<p>366 rows × 7 columns</p>\n",
       "</div>"
      ],
      "text/plain": [
       "               Skater Country Represented   Score Country of Competition  \\\n",
       "0    Adam Siao Him Fa                  FR  217.52                     US   \n",
       "1    Adam Siao Him Fa                  FR  243.29                     FR   \n",
       "2    Adam Siao Him Fa                  FR  268.98                     FR   \n",
       "3    Adam Siao Him Fa                  FR  250.45                     JP   \n",
       "4    Adam Siao Him Fa                  FR  306.78                     FR   \n",
       "..                ...                 ...     ...                    ...   \n",
       "361      Yuhana Yokoi                  JP  189.54                     JP   \n",
       "362     Yuma Kagiyama                  JP  273.14                     FR   \n",
       "363     Yuma Kagiyama                  JP  288.39                     JP   \n",
       "364      Yuzuru Hanyu                  JP  322.59                     CA   \n",
       "365      Yuzuru Hanyu                  JP  305.05                     JP   \n",
       "\n",
       "    Discipline     Season  Home Competition?  \n",
       "0          Men  2021-2022              False  \n",
       "1          Men  2021-2022               True  \n",
       "2          Men  2022-2023               True  \n",
       "3          Men  2022-2023              False  \n",
       "4          Men  2023-2024               True  \n",
       "..         ...        ...                ...  \n",
       "361      Women  2019-2020               True  \n",
       "362        Men  2023-2024              False  \n",
       "363        Men  2023-2024               True  \n",
       "364        Men  2019-2020              False  \n",
       "365        Men  2019-2020               True  \n",
       "\n",
       "[366 rows x 7 columns]"
      ]
     },
     "execution_count": 5,
     "metadata": {},
     "output_type": "execute_result"
    }
   ],
   "source": [
    "data = pd.read_csv('grand_prix_dataset.csv')\n",
    "data"
   ]
  },
  {
   "cell_type": "markdown",
   "id": "7b7f0ad7",
   "metadata": {},
   "source": [
    "We want to drop values where scores are NaNs. However, we have to ensure that all the skaters in the dataframe are present at 2 competitions per season, so if we drop one observation, we have to drop the other observationn from the second competition."
   ]
  },
  {
   "cell_type": "code",
   "execution_count": 6,
   "id": "f8bf6399",
   "metadata": {},
   "outputs": [],
   "source": [
    "if True in data['Score'].isna().values:\n",
    "    skaters_to_drop = list(data[data['Score'].isna()]['Skater'])\n",
    "    seasons_competed = list(data[data['Score'].isna()]['Season'])\n",
    "    data = data[~data['Skater'].isin(skaters_to_drop) & ~data['Season'].isin(seasons_competed)]\n",
    "\n",
    "    "
   ]
  },
  {
   "cell_type": "markdown",
   "id": "bf7dc787",
   "metadata": {},
   "source": [
    "Average scores vary by discipline. For example, men's scores tend to be higher than women's scores because their elements are more difficult. We will standardize each discipline separately using StandardScaler"
   ]
  },
  {
   "cell_type": "code",
   "execution_count": 7,
   "id": "b3aee07c",
   "metadata": {},
   "outputs": [
    {
     "data": {
      "text/plain": [
       "{'Dance': StandardScaler(),\n",
       " 'Men': StandardScaler(),\n",
       " 'Pairs': StandardScaler(),\n",
       " 'Women': StandardScaler()}"
      ]
     },
     "execution_count": 7,
     "metadata": {},
     "output_type": "execute_result"
    }
   ],
   "source": [
    "# must standardize by discipline\n",
    "scalers_by_discipline = {}\n",
    "discipline_groups = data.groupby('Discipline')\n",
    "for name, group in discipline_groups:\n",
    "    scaler = StandardScaler()\n",
    "    scaler.fit(group['Score'].values.reshape(-1,1))\n",
    "    scalers_by_discipline[name] = scaler\n",
    "scalers_by_discipline"
   ]
  },
  {
   "cell_type": "code",
   "execution_count": 8,
   "id": "cbc0bd75",
   "metadata": {},
   "outputs": [
    {
     "name": "stderr",
     "output_type": "stream",
     "text": [
      "C:\\Users\\khued\\AppData\\Local\\Temp\\ipykernel_4696\\3947264885.py:1: SettingWithCopyWarning: \n",
      "A value is trying to be set on a copy of a slice from a DataFrame.\n",
      "Try using .loc[row_indexer,col_indexer] = value instead\n",
      "\n",
      "See the caveats in the documentation: https://pandas.pydata.org/pandas-docs/stable/user_guide/indexing.html#returning-a-view-versus-a-copy\n",
      "  data['Score'] = data.apply(lambda x: scalers_by_discipline[x['Discipline']].transform(np.array(x['Score']).reshape(-1,1))[0][0], axis=1)\n"
     ]
    }
   ],
   "source": [
    "data['Score'] = data.apply(lambda x: scalers_by_discipline[x['Discipline']].transform(np.array(x['Score']).reshape(-1,1))[0][0], axis=1)"
   ]
  },
  {
   "cell_type": "markdown",
   "id": "8d105c42",
   "metadata": {},
   "source": [
    "We will get the scores from the competition held at the skater's home country and the competition held outside of their home country. We have to make sure that the scores in each array correspond to each other (ie a score listed first in the array belongs to the same skater in the same season)"
   ]
  },
  {
   "cell_type": "code",
   "execution_count": 33,
   "id": "406db162",
   "metadata": {},
   "outputs": [],
   "source": [
    "home_grand_prix= data[data['Home Competition?'] == True]\n",
    "home_grand_prix = home_grand_prix.rename(columns={'Score':'Home Score'})\n",
    "other_grand_prix = data[data['Home Competition?'] == False]\n",
    "other_grand_prix = other_grand_prix.rename(columns={'Score':'Away Score'})"
   ]
  },
  {
   "cell_type": "code",
   "execution_count": 36,
   "id": "73969a83",
   "metadata": {},
   "outputs": [
    {
     "data": {
      "text/html": [
       "<div>\n",
       "<style scoped>\n",
       "    .dataframe tbody tr th:only-of-type {\n",
       "        vertical-align: middle;\n",
       "    }\n",
       "\n",
       "    .dataframe tbody tr th {\n",
       "        vertical-align: top;\n",
       "    }\n",
       "\n",
       "    .dataframe thead th {\n",
       "        text-align: right;\n",
       "    }\n",
       "</style>\n",
       "<table border=\"1\" class=\"dataframe\">\n",
       "  <thead>\n",
       "    <tr style=\"text-align: right;\">\n",
       "      <th></th>\n",
       "      <th>Skater</th>\n",
       "      <th>Country Represented</th>\n",
       "      <th>Home Score</th>\n",
       "      <th>Country of Competition_x</th>\n",
       "      <th>Discipline</th>\n",
       "      <th>Season</th>\n",
       "      <th>Home Competition?_x</th>\n",
       "      <th>Away Score</th>\n",
       "      <th>Country of Competition_y</th>\n",
       "      <th>Home Competition?_y</th>\n",
       "    </tr>\n",
       "  </thead>\n",
       "  <tbody>\n",
       "    <tr>\n",
       "      <th>0</th>\n",
       "      <td>Adam Siao Him Fa</td>\n",
       "      <td>FR</td>\n",
       "      <td>0.657964</td>\n",
       "      <td>FR</td>\n",
       "      <td>Men</td>\n",
       "      <td>2022-2023</td>\n",
       "      <td>True</td>\n",
       "      <td>0.082531</td>\n",
       "      <td>JP</td>\n",
       "      <td>False</td>\n",
       "    </tr>\n",
       "    <tr>\n",
       "      <th>1</th>\n",
       "      <td>Adam Siao Him Fa</td>\n",
       "      <td>FR</td>\n",
       "      <td>1.831810</td>\n",
       "      <td>FR</td>\n",
       "      <td>Men</td>\n",
       "      <td>2023-2024</td>\n",
       "      <td>True</td>\n",
       "      <td>1.570956</td>\n",
       "      <td>CN</td>\n",
       "      <td>False</td>\n",
       "    </tr>\n",
       "    <tr>\n",
       "      <th>2</th>\n",
       "      <td>Alaine Chartrand</td>\n",
       "      <td>CA</td>\n",
       "      <td>-0.497321</td>\n",
       "      <td>CA</td>\n",
       "      <td>Women</td>\n",
       "      <td>2018-2019</td>\n",
       "      <td>True</td>\n",
       "      <td>-1.148923</td>\n",
       "      <td>US</td>\n",
       "      <td>False</td>\n",
       "    </tr>\n",
       "    <tr>\n",
       "      <th>3</th>\n",
       "      <td>Alexander Samarin</td>\n",
       "      <td>RU</td>\n",
       "      <td>0.517289</td>\n",
       "      <td>RU</td>\n",
       "      <td>Men</td>\n",
       "      <td>2019-2020</td>\n",
       "      <td>True</td>\n",
       "      <td>0.537474</td>\n",
       "      <td>FR</td>\n",
       "      <td>False</td>\n",
       "    </tr>\n",
       "    <tr>\n",
       "      <th>4</th>\n",
       "      <td>Alexandra Trusova</td>\n",
       "      <td>RU</td>\n",
       "      <td>1.936419</td>\n",
       "      <td>RU</td>\n",
       "      <td>Women</td>\n",
       "      <td>2019-2020</td>\n",
       "      <td>True</td>\n",
       "      <td>2.192294</td>\n",
       "      <td>CA</td>\n",
       "      <td>False</td>\n",
       "    </tr>\n",
       "    <tr>\n",
       "      <th>...</th>\n",
       "      <td>...</td>\n",
       "      <td>...</td>\n",
       "      <td>...</td>\n",
       "      <td>...</td>\n",
       "      <td>...</td>\n",
       "      <td>...</td>\n",
       "      <td>...</td>\n",
       "      <td>...</td>\n",
       "      <td>...</td>\n",
       "      <td>...</td>\n",
       "    </tr>\n",
       "    <tr>\n",
       "      <th>140</th>\n",
       "      <td>Wesley Chiu</td>\n",
       "      <td>CA</td>\n",
       "      <td>-0.815244</td>\n",
       "      <td>CA</td>\n",
       "      <td>Men</td>\n",
       "      <td>2023-2024</td>\n",
       "      <td>True</td>\n",
       "      <td>-1.199695</td>\n",
       "      <td>JP</td>\n",
       "      <td>False</td>\n",
       "    </tr>\n",
       "    <tr>\n",
       "      <th>141</th>\n",
       "      <td>Xiangyi An</td>\n",
       "      <td>CN</td>\n",
       "      <td>-1.271196</td>\n",
       "      <td>CN</td>\n",
       "      <td>Women</td>\n",
       "      <td>2023-2024</td>\n",
       "      <td>True</td>\n",
       "      <td>-0.761790</td>\n",
       "      <td>US</td>\n",
       "      <td>False</td>\n",
       "    </tr>\n",
       "    <tr>\n",
       "      <th>142</th>\n",
       "      <td>Yuhana Yokoi</td>\n",
       "      <td>JP</td>\n",
       "      <td>0.181235</td>\n",
       "      <td>JP</td>\n",
       "      <td>Women</td>\n",
       "      <td>2019-2020</td>\n",
       "      <td>True</td>\n",
       "      <td>-0.086750</td>\n",
       "      <td>RU</td>\n",
       "      <td>False</td>\n",
       "    </tr>\n",
       "    <tr>\n",
       "      <th>143</th>\n",
       "      <td>Yuma Kagiyama</td>\n",
       "      <td>JP</td>\n",
       "      <td>1.260725</td>\n",
       "      <td>JP</td>\n",
       "      <td>Men</td>\n",
       "      <td>2023-2024</td>\n",
       "      <td>True</td>\n",
       "      <td>0.787149</td>\n",
       "      <td>FR</td>\n",
       "      <td>False</td>\n",
       "    </tr>\n",
       "    <tr>\n",
       "      <th>144</th>\n",
       "      <td>Yuzuru Hanyu</td>\n",
       "      <td>JP</td>\n",
       "      <td>1.778087</td>\n",
       "      <td>JP</td>\n",
       "      <td>Men</td>\n",
       "      <td>2019-2020</td>\n",
       "      <td>True</td>\n",
       "      <td>2.322776</td>\n",
       "      <td>CA</td>\n",
       "      <td>False</td>\n",
       "    </tr>\n",
       "  </tbody>\n",
       "</table>\n",
       "<p>145 rows × 10 columns</p>\n",
       "</div>"
      ],
      "text/plain": [
       "                Skater Country Represented  Home Score  \\\n",
       "0     Adam Siao Him Fa                  FR    0.657964   \n",
       "1     Adam Siao Him Fa                  FR    1.831810   \n",
       "2     Alaine Chartrand                  CA   -0.497321   \n",
       "3    Alexander Samarin                  RU    0.517289   \n",
       "4    Alexandra Trusova                  RU    1.936419   \n",
       "..                 ...                 ...         ...   \n",
       "140        Wesley Chiu                  CA   -0.815244   \n",
       "141         Xiangyi An                  CN   -1.271196   \n",
       "142       Yuhana Yokoi                  JP    0.181235   \n",
       "143      Yuma Kagiyama                  JP    1.260725   \n",
       "144       Yuzuru Hanyu                  JP    1.778087   \n",
       "\n",
       "    Country of Competition_x Discipline     Season  Home Competition?_x  \\\n",
       "0                         FR        Men  2022-2023                 True   \n",
       "1                         FR        Men  2023-2024                 True   \n",
       "2                         CA      Women  2018-2019                 True   \n",
       "3                         RU        Men  2019-2020                 True   \n",
       "4                         RU      Women  2019-2020                 True   \n",
       "..                       ...        ...        ...                  ...   \n",
       "140                       CA        Men  2023-2024                 True   \n",
       "141                       CN      Women  2023-2024                 True   \n",
       "142                       JP      Women  2019-2020                 True   \n",
       "143                       JP        Men  2023-2024                 True   \n",
       "144                       JP        Men  2019-2020                 True   \n",
       "\n",
       "     Away Score Country of Competition_y  Home Competition?_y  \n",
       "0      0.082531                       JP                False  \n",
       "1      1.570956                       CN                False  \n",
       "2     -1.148923                       US                False  \n",
       "3      0.537474                       FR                False  \n",
       "4      2.192294                       CA                False  \n",
       "..          ...                      ...                  ...  \n",
       "140   -1.199695                       JP                False  \n",
       "141   -0.761790                       US                False  \n",
       "142   -0.086750                       RU                False  \n",
       "143    0.787149                       FR                False  \n",
       "144    2.322776                       CA                False  \n",
       "\n",
       "[145 rows x 10 columns]"
      ]
     },
     "execution_count": 36,
     "metadata": {},
     "output_type": "execute_result"
    }
   ],
   "source": [
    "reformatted_df = home_grand_prix.merge(other_grand_prix, on=['Skater', 'Country Represented','Discipline',\n",
    "                                                             'Season'])\n",
    "reformatted_df"
   ]
  },
  {
   "cell_type": "code",
   "execution_count": 37,
   "id": "eb226321",
   "metadata": {},
   "outputs": [],
   "source": [
    "home_grand_prix_total_scores = reformatted_df['Home Score'].values\n",
    "other_grand_prix_total_scores = reformatted_df['Away Score'].values"
   ]
  },
  {
   "cell_type": "markdown",
   "id": "7546f18e",
   "metadata": {},
   "source": [
    "We plot the average scores for home competitions and away competitions to compare the differences"
   ]
  },
  {
   "cell_type": "code",
   "execution_count": 47,
   "id": "721fb35b",
   "metadata": {},
   "outputs": [
    {
     "data": {
      "text/plain": [
       "([0, 1],\n",
       " [Text(0, 0, 'Average Home Grand Prix Score'),\n",
       "  Text(1, 0, 'Average Grand Prix Score Outside Home Country')])"
      ]
     },
     "execution_count": 47,
     "metadata": {},
     "output_type": "execute_result"
    },
    {
     "data": {
      "image/png": "[encoded data removed]",
      "text/plain": [
       "<Figure size 640x480 with 1 Axes>"
      ]
     },
     "metadata": {},
     "output_type": "display_data"
    }
   ],
   "source": [
    "plt.bar(['Average Home Grand Prix Score', 'Average Grand Prix Score Outside Home Country'], [np.mean(home_grand_prix_total_scores), np.mean(other_grand_prix_total_scores)],)\n",
    "plt.xticks(rotation=45)"
   ]
  },
  {
   "cell_type": "markdown",
   "id": "a8c0776a",
   "metadata": {},
   "source": [
    "We will perform a paired t-test using 2 methods. The first is a hypothesis-based test using the t-distribution and the second is a simulation-based test using bootstrap samples. The test will be one-sided. We will also find the confidence interval"
   ]
  },
  {
   "cell_type": "code",
   "execution_count": 49,
   "id": "c4dcdf2f",
   "metadata": {
    "scrolled": true
   },
   "outputs": [
    {
     "name": "stdout",
     "output_type": "stream",
     "text": [
      "Test Statistic: 2.597109347836686\n",
      "p-value: 0.005188471067448112\n"
     ]
    }
   ],
   "source": [
    "# t test\n",
    "t_stat, p_val = ttest_rel(home_grand_prix_total_scores, other_grand_prix_total_scores, alternative='greater')\n",
    "print(f'Test Statistic: {t_stat}')\n",
    "print(f'p-value: {p_val}')"
   ]
  },
  {
   "cell_type": "code",
   "execution_count": 51,
   "id": "811ee4d7",
   "metadata": {},
   "outputs": [
    {
     "name": "stdout",
     "output_type": "stream",
     "text": [
      "Confidence Interval: (0.1034860396879601, 0.1252547918157336\n"
     ]
    }
   ],
   "source": [
    "# confidence interval \n",
    "differences = home_grand_prix_total_scores - other_grand_prix_total_scores\n",
    "mean_differences = np.mean(differences)\n",
    "sd_differences = np.std(differences, ddof = 1)\n",
    "lower_bound = mean_differences - t.pdf(0.975, len(differences)-1)*(sd_differences)/np.sqrt(len(differences))\n",
    "upper_bound = mean_differences + t.pdf(0.975, len(differences)-1)*(sd_differences)/np.sqrt(len(differences))\n",
    "print(f\"Confidence Interval: ({lower_bound}, {upper_bound}\")"
   ]
  },
  {
   "cell_type": "code",
   "execution_count": 23,
   "id": "bc4766f7",
   "metadata": {},
   "outputs": [
    {
     "data": {
      "text/plain": [
       "(array([ 1.,  0.,  3.,  5.,  6.,  5., 13., 16., 28., 24., 10.,  9., 10.,\n",
       "         4.,  3.,  3.,  2.,  1.,  0.,  2.]),\n",
       " array([-1.33998606, -1.179941  , -1.01989594, -0.85985087, -0.69980581,\n",
       "        -0.53976075, -0.37971568, -0.21967062, -0.05962556,  0.10041951,\n",
       "         0.26046457,  0.42050963,  0.5805547 ,  0.74059976,  0.90064482,\n",
       "         1.06068989,  1.22073495,  1.38078001,  1.54082507,  1.70087014,\n",
       "         1.8609152 ]),\n",
       " <BarContainer object of 20 artists>)"
      ]
     },
     "execution_count": 23,
     "metadata": {},
     "output_type": "execute_result"
    },
    {
     "data": {
      "image/png": "[encoded data removed]",
      "text/plain": [
       "<Figure size 640x480 with 1 Axes>"
      ]
     },
     "metadata": {},
     "output_type": "display_data"
    }
   ],
   "source": [
    "plt.hist(differences, bins=20)"
   ]
  },
  {
   "cell_type": "code",
   "execution_count": 43,
   "id": "08a21123",
   "metadata": {},
   "outputs": [
    {
     "name": "stdout",
     "output_type": "stream",
     "text": [
      "p-value: 0.0051884710674481305\n"
     ]
    }
   ],
   "source": [
    "from scipy.stats import t\n",
    "p_value = 1-t.cdf(test_stat, len(differences)-1)\n",
    "print(f'p-value: {p_value}')"
   ]
  },
  {
   "cell_type": "code",
   "execution_count": 26,
   "id": "8ee5c41e",
   "metadata": {},
   "outputs": [],
   "source": [
    "#TODO add confidence interval"
   ]
  }
 ],
 "metadata": {
  "kernelspec": {
   "display_name": "Python 3 (ipykernel)",
   "language": "python",
   "name": "python3"
  },
  "language_info": {
   "codemirror_mode": {
    "name": "ipython",
    "version": 3
   },
   "file_extension": ".py",
   "mimetype": "text/x-python",
   "name": "python",
   "nbconvert_exporter": "python",
   "pygments_lexer": "ipython3",
   "version": "3.11.9"
  }
 },
 "nbformat": 4,
 "nbformat_minor": 5
}
